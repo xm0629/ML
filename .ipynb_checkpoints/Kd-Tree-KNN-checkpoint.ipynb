{
 "cells": [
  {
   "cell_type": "code",
   "execution_count": 1,
   "metadata": {},
   "outputs": [],
   "source": [
    "import numpy as np"
   ]
  },
  {
   "cell_type": "code",
   "execution_count": 12,
   "metadata": {},
   "outputs": [],
   "source": [
    "class Node(object):\n",
    "    '''\n",
    "    首先实现一个节点类表示 kd\n",
    "    '''\n",
    "    \n",
    "    def __init__(self, data, lchild=None, rchild=None):\n",
    "        self.data = data\n",
    "        self.lchild = lchild\n",
    "        self.rchild = rchild"
   ]
  },
  {
   "cell_type": "code",
   "execution_count": null,
   "metadata": {},
   "outputs": [],
   "source": [
    "class KdTree:\n",
    "    def __init__(self):\n",
    "        self.kdTree = None\n",
    "\n",
    "    def create(self, dataSet, depth):   #创建kd树，返回根结点\n",
    "        if (len(dataSet) > 0):\n",
    "            m, n = np.shape(dataSet)    #求出样本行，列\n",
    "            midIndex = int(m / 2) #中间数的索引位置\n",
    "            axis = depth % n    #判断以哪个轴划分数据\n",
    "            sortedDataSet = self.sort(dataSet, axis) #进行排序\n",
    "            node = Node(sortedDataSet[midIndex]) #将节点数据域设置为中位数，具体参考下书本\n",
    "            # print sortedDataSet[midIndex]\n",
    "            leftDataSet = sortedDataSet[: midIndex] #将中位数的左边创建2改副本\n",
    "            rightDataSet = sortedDataSet[midIndex+1 :]\n",
    "            print(leftDataSet)\n",
    "            print(rightDataSet)\n",
    "            node.lchild = self.create(leftDataSet, depth+1) #将中位数左边样本传入来递归创建树\n",
    "            node.rchild = self.create(rightDataSet, depth+1)\n",
    "            return node\n",
    "        else:\n",
    "            return None\n",
    "\n",
    "    def sort(self, dataSet, axis):  #采用冒泡排序，利用aixs作为轴进行划分\n",
    "        sortDataSet = dataSet[:]    #由于不能破坏原样本，此处建立一个副本\n",
    "        m, n = np.shape(sortDataSet)\n",
    "        for i in range(m):\n",
    "            for j in range(0, m - i - 1):\n",
    "                if (sortDataSet[j][axis] > sortDataSet[j+1][axis]):\n",
    "                    temp = sortDataSet[j]\n",
    "                    sortDataSet[j] = sortDataSet[j+1]\n",
    "                    sortDataSet[j+1] = temp\n",
    "        print(sortDataSet)\n",
    "        return sortDataSet\n",
    "\n",
    "    def preOrder(self, node):\n",
    "        if node != None:\n",
    "            print(\"tttt->%s\" % node.data)\n",
    "            self.preOrder(node.lchild)\n",
    "            self.preOrder(node.rchild)\n",
    "\n",
    "    def search(self, tree, x):\n",
    "        self.nearestPoint = None    #保存最近的点\n",
    "        self.nearestValue = 0   #保存最近的值\n",
    "        def travel(node, depth = 0):    #递归搜索\n",
    "            if node != None:    #递归终止条件\n",
    "                n = len(x)  #特征数\n",
    "                axis = depth % n    #计算轴\n",
    "                if x[axis] < node.data[axis]:   #如果数据小于结点，则往左结点找\n",
    "                    travel(node.lchild, depth+1)\n",
    "                else:\n",
    "                    travel(node.rchild, depth+1)\n",
    "\n",
    "                #以下是递归完毕后，往父结点方向回朔\n",
    "                distNodeAndX = self.dist(x, node.data)  #目标和节点的距离判断\n",
    "                if (self.nearestPoint == None): #确定当前点，更新最近的点和最近的值\n",
    "                    self.nearestPoint = node.data\n",
    "                    self.nearestValue = distNodeAndX\n",
    "                elif (self.nearestValue > distNodeAndX):\n",
    "                    self.nearestPoint = node.data\n",
    "                    self.nearestValue = distNodeAndX\n",
    "\n",
    "                print(node.data, depth, self.nearestValue, node.data[axis], x[axis])\n",
    "                if (abs(x[axis] - node.data[axis]) <= self.nearestValue):  #确定是否需要去子节点的区域去找（圆的判断）\n",
    "                    if x[axis] < node.data[axis]:\n",
    "                        travel(node.rchild, depth+1)\n",
    "                    else:\n",
    "                        travel(node.lchild, depth + 1)\n",
    "        travel(tree)\n",
    "        return self.nearestPoint\n",
    "\n",
    "    def dist(self, x1, x2): #欧式距离的计算\n",
    "        return ((np.array(x1) - np.array(x2)) ** 2).sum() ** 0.5"
   ]
  },
  {
   "cell_type": "code",
   "execution_count": 25,
   "metadata": {},
   "outputs": [],
   "source": [
    "dataSet = [[2, 3],\n",
    "           [5, 4],\n",
    "           [9, 6],\n",
    "           [4, 7],\n",
    "           [8, 1],\n",
    "           [7, 2]]\n",
    "x = [5, 3]\n",
    "kdtree = KdTree()\n",
    "tree = kdtree.create(dataSet, 0)\n",
    "kdtree.preOrder(tree)\n",
    "print(kdtree.search(tree, x))"
   ]
  },
  {
   "cell_type": "code",
   "execution_count": null,
   "metadata": {},
   "outputs": [],
   "source": []
  }
 ],
 "metadata": {
  "kernelspec": {
   "display_name": "Python 3",
   "language": "python",
   "name": "python3"
  },
  "language_info": {
   "codemirror_mode": {
    "name": "ipython",
    "version": 3
   },
   "file_extension": ".py",
   "mimetype": "text/x-python",
   "name": "python",
   "nbconvert_exporter": "python",
   "pygments_lexer": "ipython3",
   "version": "3.6.7"
  }
 },
 "nbformat": 4,
 "nbformat_minor": 2
}
