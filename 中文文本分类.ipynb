{
 "cells": [
  {
   "cell_type": "markdown",
   "metadata": {},
   "source": [
    "文本挖掘的 7 个主要领域"
   ]
  },
  {
   "cell_type": "markdown",
   "metadata": {},
   "source": [
    "搜索和信息检索(IR): 存储和文本文档的检索, 包括搜索引擎和关键字搜索.\n",
    "\n",
    "文本聚类: 使用聚类的方法, 对词汇、片段、段落或者文本进行分类和归类.\n",
    "\n",
    "文本分类:对片段、段落或文件进行分类和归类, 在使用数据挖掘分类方法的基础上, 经过训练地标记示例模型.\n",
    "\n",
    "Web 挖掘: 在互联网上进行数据和文本挖掘, 并特别关注网络的规模和相互联系.\n",
    "\n",
    "信息抽取(IE):从非结构化文本中识别与提取有关的事实和关系, 从非结构化或半结构化文本中抽取出结构化数据过程.\n",
    "\n",
    "自然语言处理(NLP): 将语言作为一种有意意思、有规则的符号系统, 在底层解析和理解语言任务, 目前的技术主要是从语法和语义的角度发现语言最本质的结构和所表达的意义.\n",
    "\n",
    "概念提取:把单词和短语分成意义相似的组."
   ]
  },
  {
   "cell_type": "markdown",
   "metadata": {},
   "source": [
    "### 文本分类项目的技术和流程 "
   ]
  },
  {
   "cell_type": "markdown",
   "metadata": {},
   "source": [
    "+ 预处理: 去除文本的噪声戏信息, 例如 HTML 标签, 文本格式转换, 检测句子边界.\n",
    "+ 中文分词: 使用中文分词器为文本分词, 生成文本的词向量空间.\n",
    "+ 构建词向量空间:统计文本词频, 生成文本的词向量空间.\n",
    "+ 权重策略 TF-IDF 方法: 使用 TF-IDF 发现特征词, 并抽取为反映文档主题的特征.\n",
    "+ 分类器 使用算法分类器进行分类\n",
    "+ 评价分类结果, 分类器的测试结果分析."
   ]
  },
  {
   "cell_type": "code",
   "execution_count": null,
   "metadata": {},
   "outputs": [],
   "source": []
  }
 ],
 "metadata": {
  "kernelspec": {
   "display_name": "Python 3",
   "language": "python",
   "name": "python3"
  },
  "language_info": {
   "codemirror_mode": {
    "name": "ipython",
    "version": 3
   },
   "file_extension": ".py",
   "mimetype": "text/x-python",
   "name": "python",
   "nbconvert_exporter": "python",
   "pygments_lexer": "ipython3",
   "version": "3.6.7"
  }
 },
 "nbformat": 4,
 "nbformat_minor": 2
}
