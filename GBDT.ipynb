{
 "cells": [
  {
   "cell_type": "markdown",
   "metadata": {},
   "source": [
    "#### GDBT 梯度下降树"
   ]
  },
  {
   "cell_type": "markdown",
   "metadata": {},
   "source": [
    "面试的常见问题:\n",
    "\n",
    "(1) gdbt 算法流程.\n",
    "\n",
    "(2) gdbt 如何选择特征.\n",
    "\n",
    "(3) 如何构建特征.\n",
    "\n",
    "(4) 如何用于分类\n",
    "\n",
    "(5) 通过什么方式减少误差\n",
    "\n",
    "(6) gdbt　效果比传统的 LR, SVM 效果为什么好一些.\n",
    "\n",
    "(7) gbdt 如何加速训练.\n",
    "\n",
    "(8) gbdt参数有哪些,　如何调参.\n",
    "\n",
    "(9) gbdt 实战中的一些问题.\n",
    "\n",
    "(9) gbdt优点.\n"
   ]
  },
  {
   "cell_type": "markdown",
   "metadata": {},
   "source": [
    "GBDT 是通过采用加法模型, (函数的线性组合) 以及不断较小训练过程产生的残差达到数据分类或者回归的算法."
   ]
  },
  {
   "cell_type": "code",
   "execution_count": null,
   "metadata": {},
   "outputs": [],
   "source": []
  }
 ],
 "metadata": {
  "kernelspec": {
   "display_name": "Python 3",
   "language": "python",
   "name": "python3"
  },
  "language_info": {
   "codemirror_mode": {
    "name": "ipython",
    "version": 3
   },
   "file_extension": ".py",
   "mimetype": "text/x-python",
   "name": "python",
   "nbconvert_exporter": "python",
   "pygments_lexer": "ipython3",
   "version": "3.6.7"
  }
 },
 "nbformat": 4,
 "nbformat_minor": 2
}
